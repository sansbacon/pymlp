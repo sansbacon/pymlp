{
 "cells": [
  {
   "cell_type": "code",
   "execution_count": 1,
   "metadata": {},
   "outputs": [],
   "source": [
    "import re\n",
    "\n",
    "from bs4 import BeautifulSoup\n",
    "import requests"
   ]
  },
  {
   "cell_type": "code",
   "execution_count": 55,
   "metadata": {},
   "outputs": [],
   "source": [
    "def get_players(el, fields=None):\n",
    "    \"\"\"Get the player attributes on the page\"\"\"\n",
    "    fields = fields if fields else ['alt']\n",
    "    base_player_url = 'https://www.majorleaguepickleball.net/player/{slug}/'\n",
    "    players = []\n",
    "\n",
    "    for img in el.find_all('img'):\n",
    "        if 'Player' in img.attrs.get('alt',):\n",
    "            player = {k: img.attrs[k] for k in fields}\n",
    "            slug = '-'.join([s.lower() for s in player['alt'].split()[1:]])\n",
    "            player['player_url'] = base_player_url.format(slug=slug)\n",
    "            player['player_name'] = ' '.join(player['alt'].split()[1:])\n",
    "            players.append({k: v for k, v in player.items() if k not in fields})        \n",
    "    return players\n",
    "\n",
    "\n",
    "def get_teams(soup):\n",
    "    \"\"\"Parses page into dict of team name: team URL\n",
    "       Team name is in all caps. Is challenger and premier\"\"\"\n",
    "    urls = {}\n",
    "    for a in soup.find_all('a', class_=None):\n",
    "        if re.search(r'net/team/', a.get('href', '')):\n",
    "            urls[a.text] = a['href']\n",
    "    return urls\n",
    "\n",
    "\n",
    "def get_team_divs(soup):\n",
    "    \"\"\"Parses page into divs for teams. Is only for the selected league\"\"\"\n",
    "    css_class = 'league__team'\n",
    "    return [div for div in soup.find_all('div', class_=css_class)]\n",
    "\n",
    "\n",
    "def parse_team_div(div, teamsd):\n",
    "    \"\"\"Parses team div into dict\"\"\"\n",
    "    team = {'players': get_players(div)}\n",
    "    \n",
    "    # get team metadata\n",
    "    ## team name\n",
    "    team['team_name'] = div.find('a').text\n",
    "    \n",
    "    ## page and logo link\n",
    "    team['team_url'] = teamsd.get(team['team_name'])\n",
    "    logo_class = 'league__team-card__logo'\n",
    "    for img in div.find_all('img', class_=logo_class):\n",
    "        if team['team_name'] in img.attrs.get('alt', ''):\n",
    "            team['logo_url'] = img.attrs['data-src']\n",
    "\n",
    "    ## DUPR\n",
    "    dupr_class = 'league__team-card__dupr'\n",
    "    for child in div.findChildren(recursive=True):\n",
    "        if dupr_class in child.attrs.get('class', ''):\n",
    "            team['team_dupr'] = float(child.text)\n",
    "\n",
    "    return team"
   ]
  },
  {
   "cell_type": "code",
   "execution_count": 5,
   "metadata": {},
   "outputs": [
    {
     "name": "stdout",
     "output_type": "stream",
     "text": [
      "[{'team_name': 'ATLANTA BOUNCERS', 'team_dupr': 23.95}, {'team_name': 'AZ DRIVE', 'team_dupr': 23.6}, {'team_name': 'BAY AREA BREAKERS', 'team_dupr': 24.1}, {'team_name': 'BROOKLYN ACES', 'team_dupr': 23.21}, {'team_name': 'CHICAGO SLICE', 'team_dupr': 24.04}, {'team_name': 'COLUMBUS PICKLEBALL CLUB', 'team_dupr': 24.0}, {'team_name': 'D.C. PICKLEBALL TEAM', 'team_dupr': 23.18}, {'team_name': 'DALLAS PICKLEBALL CLUB', 'team_dupr': 23.3}, {'team_name': 'MIAMI PICKLEBALL CLUB', 'team_dupr': 23.31}, {'team_name': 'ORLANDO SQUEEZE', 'team_dupr': 24.03}, {'team_name': 'TEXAS RANCHERS', 'team_dupr': 24.05}, {'team_name': 'UTAH BLACK DIAMONDS', 'team_dupr': 23.51}]\n"
     ]
    }
   ],
   "source": [
    "BASE_URL = 'https://www.majorleaguepickleball.net/{league}-league/'\n",
    "r = requests.get(BASE_URL.format(league='challenger'))\n",
    "html = r.text.replace(\"\"\"Player Carson \"CJ\" Klinger\"\"\", 'Player CJ Klinger')\n",
    "soup = BeautifulSoup(html, parser='lxml')"
   ]
  },
  {
   "cell_type": "code",
   "execution_count": 56,
   "metadata": {},
   "outputs": [
    {
     "name": "stdout",
     "output_type": "stream",
     "text": [
      "[{'players': [{'player_url': 'https://www.majorleaguepickleball.net/player/phillip-locklear/', 'player_name': 'Phillip Locklear'}, {'player_url': 'https://www.majorleaguepickleball.net/player/milan-rane/', 'player_name': 'Milan Rane'}, {'player_url': 'https://www.majorleaguepickleball.net/player/brooke-buckner/', 'player_name': 'Brooke Buckner'}, {'player_url': 'https://www.majorleaguepickleball.net/player/hunter-johnson/', 'player_name': 'Hunter Johnson'}], 'team_name': 'ATLANTA BOUNCERS', 'team_url': 'https://www.majorleaguepickleball.net/team/bouncers/', 'logo_url': 'https://www.majorleaguepickleball.net/wp-content/uploads/atlanta_bouncers.svg', 'team_dupr': 23.95}, {'players': [{'player_url': 'https://www.majorleaguepickleball.net/player/anderson-scarpa/', 'player_name': 'Anderson Scarpa'}, {'player_url': 'https://www.majorleaguepickleball.net/player/john-cincola/', 'player_name': 'John Cincola'}, {'player_url': 'https://www.majorleaguepickleball.net/player/genie-erokhina/', 'player_name': 'Genie Erokhina'}, {'player_url': 'https://www.majorleaguepickleball.net/player/sarah-ansboury/', 'player_name': 'Sarah Ansboury'}], 'team_name': 'AZ DRIVE', 'team_url': 'https://www.majorleaguepickleball.net/team/az-drive/', 'logo_url': 'https://www.majorleaguepickleball.net/wp-content/uploads/LOGO_AZ-300x300.png', 'team_dupr': 23.6}, {'players': [{'player_url': 'https://www.majorleaguepickleball.net/player/vivian-glozman/', 'player_name': 'Vivian Glozman'}, {'player_url': 'https://www.majorleaguepickleball.net/player/ewa-radzikowska/', 'player_name': 'Ewa Radzikowska'}, {'player_url': 'https://www.majorleaguepickleball.net/player/christian-alshon/', 'player_name': 'Christian Alshon'}, {'player_url': 'https://www.majorleaguepickleball.net/player/pablo-tellez/', 'player_name': 'Pablo Tellez'}], 'team_name': 'BAY AREA BREAKERS', 'team_url': 'https://www.majorleaguepickleball.net/team/breakers/', 'logo_url': 'https://www.majorleaguepickleball.net/wp-content/uploads/BayAreaBreakers-Logo-Primary-RGB.svg', 'team_dupr': 24.1}, {'players': [{'player_url': 'https://www.majorleaguepickleball.net/player/martina-frantova/', 'player_name': 'Martina Frantova'}, {'player_url': 'https://www.majorleaguepickleball.net/player/hurricane-tyra-black/', 'player_name': 'Hurricane Tyra Black'}, {'player_url': 'https://www.majorleaguepickleball.net/player/rob-nunnery/', 'player_name': 'Rob Nunnery'}, {'player_url': 'https://www.majorleaguepickleball.net/player/greg-dow/', 'player_name': 'Greg Dow'}], 'team_name': 'BROOKLYN ACES', 'team_url': 'https://www.majorleaguepickleball.net/team/aces/', 'logo_url': 'https://www.majorleaguepickleball.net/wp-content/uploads/BrooklynAces_Clean.svg', 'team_dupr': 23.21}, {'players': [{'player_url': 'https://www.majorleaguepickleball.net/player/susannah-barr/', 'player_name': 'Susannah Barr'}, {'player_url': 'https://www.majorleaguepickleball.net/player/emily-ackerman/', 'player_name': 'Emily Ackerman'}, {'player_url': 'https://www.majorleaguepickleball.net/player/connor-garnett/', 'player_name': 'Connor Garnett'}, {'player_url': 'https://www.majorleaguepickleball.net/player/ryler-deheart/', 'player_name': 'Ryler DeHeart'}], 'team_name': 'CHICAGO SLICE', 'team_url': 'https://www.majorleaguepickleball.net/team/slice/', 'logo_url': 'https://www.majorleaguepickleball.net/wp-content/uploads/Chicago-Slice-TRANSP-300x300.png', 'team_dupr': 24.04}, {'players': [{'player_url': 'https://www.majorleaguepickleball.net/player/rianna-valdes/', 'player_name': 'Rianna Valdes'}, {'player_url': 'https://www.majorleaguepickleball.net/player/cj-klinger/', 'player_name': 'CJ Klinger'}, {'player_url': 'https://www.majorleaguepickleball.net/player/yates-johnson/', 'player_name': 'Yates Johnson'}, {'player_url': 'https://www.majorleaguepickleball.net/player/megan-fudge/', 'player_name': 'Megan Fudge'}], 'team_name': 'COLUMBUS PICKLEBALL CLUB', 'team_url': 'https://www.majorleaguepickleball.net/team/pickleball-club-columbus/', 'logo_url': 'https://www.majorleaguepickleball.net/wp-content/uploads/columbus_pickleball_club_logo.svg', 'team_dupr': 24.0}, {'players': [{'player_url': 'https://www.majorleaguepickleball.net/player/judit-castillo-gargallo/', 'player_name': 'Judit Castillo Gargallo'}, {'player_url': 'https://www.majorleaguepickleball.net/player/stefan-auvergne/', 'player_name': 'Stefan Auvergne'}, {'player_url': 'https://www.majorleaguepickleball.net/player/sam-querrey/', 'player_name': 'Sam Querrey'}, {'player_url': 'https://www.majorleaguepickleball.net/player/shelby-bates/', 'player_name': 'Shelby Bates'}], 'team_name': 'D.C. PICKLEBALL TEAM', 'team_url': 'https://www.majorleaguepickleball.net/team/d-c-pickleball-team/', 'logo_url': 'https://www.majorleaguepickleball.net/wp-content/uploads/dc_pickleball.svg', 'team_dupr': 23.18}, {'players': [{'player_url': 'https://www.majorleaguepickleball.net/player/ben-newell/', 'player_name': 'Ben Newell'}, {'player_url': 'https://www.majorleaguepickleball.net/player/daniel-de-la-rosa/', 'player_name': 'Daniel De La Rosa'}, {'player_url': 'https://www.majorleaguepickleball.net/player/christa-gecheva/', 'player_name': 'Christa Gecheva'}, {'player_url': 'https://www.majorleaguepickleball.net/player/jill-braverman/', 'player_name': 'Jill Braverman'}], 'team_name': 'DALLAS PICKLEBALL CLUB', 'team_url': 'https://www.majorleaguepickleball.net/team/dallas-pickleball-club/', 'logo_url': 'https://www.majorleaguepickleball.net/wp-content/uploads/dpc-final.svg', 'team_dupr': 23.3}, {'players': [{'player_url': 'https://www.majorleaguepickleball.net/player/brendon-long/', 'player_name': 'Brendon Long'}, {'player_url': 'https://www.majorleaguepickleball.net/player/regina-franco/', 'player_name': 'Regina Franco'}, {'player_url': 'https://www.majorleaguepickleball.net/player/alix-truong/', 'player_name': 'Alix Truong'}, {'player_url': 'https://www.majorleaguepickleball.net/player/wes-burrows/', 'player_name': 'Wes Burrows'}], 'team_name': 'MIAMI PICKLEBALL CLUB', 'team_url': 'https://www.majorleaguepickleball.net/team/miami-pickleball-club/', 'logo_url': 'https://www.majorleaguepickleball.net/wp-content/uploads/miami_mpc.svg', 'team_dupr': 23.31}, {'players': [{'player_url': 'https://www.majorleaguepickleball.net/player/bobbi-oshiro/', 'player_name': 'Bobbi Oshiro'}, {'player_url': 'https://www.majorleaguepickleball.net/player/rachel-rettger/', 'player_name': 'Rachel Rettger'}, {'player_url': 'https://www.majorleaguepickleball.net/player/callan-dawson/', 'player_name': 'Callan Dawson'}, {'player_url': 'https://www.majorleaguepickleball.net/player/todd-fought/', 'player_name': 'Todd Fought'}], 'team_name': 'ORLANDO SQUEEZE', 'team_url': 'https://www.majorleaguepickleball.net/team/squeeze/', 'logo_url': 'https://www.majorleaguepickleball.net/wp-content/uploads/orlsqueeze_primary.svg', 'team_dupr': 24.03}, {'players': [{'player_url': 'https://www.majorleaguepickleball.net/player/tina-pisnik/', 'player_name': 'Tina Pisnik'}, {'player_url': 'https://www.majorleaguepickleball.net/player/lee-whitwell/', 'player_name': 'Lee Whitwell'}, {'player_url': 'https://www.majorleaguepickleball.net/player/patrick-smith/', 'player_name': 'Patrick Smith'}, {'player_url': 'https://www.majorleaguepickleball.net/player/scott-doerner/', 'player_name': 'Scott Doerner'}], 'team_name': 'TEXAS RANCHERS', 'team_url': 'https://www.majorleaguepickleball.net/team/ranchers/', 'logo_url': 'https://www.majorleaguepickleball.net/wp-content/uploads/RANCHERS.svg', 'team_dupr': 24.05}, {'players': [{'player_url': 'https://www.majorleaguepickleball.net/player/michelle-esquivel/', 'player_name': 'Michelle Esquivel'}, {'player_url': 'https://www.majorleaguepickleball.net/player/olivia-mcmillan/', 'player_name': 'Olivia McMillan'}, {'player_url': 'https://www.majorleaguepickleball.net/player/spencer-smith/', 'player_name': 'Spencer Smith'}, {'player_url': 'https://www.majorleaguepickleball.net/player/rob-cassidy/', 'player_name': 'Rob Cassidy'}], 'team_name': 'UTAH BLACK DIAMONDS', 'team_url': 'https://www.majorleaguepickleball.net/team/black-diamonds/', 'logo_url': 'https://www.majorleaguepickleball.net/wp-content/uploads/black-diamonds.svg', 'team_dupr': 23.51}]\n"
     ]
    }
   ],
   "source": [
    "teams = [parse_team_div(team, get_teams(soup)) for team in get_team_divs(soup)]\n",
    "print(teams)"
   ]
  },
  {
   "cell_type": "code",
   "execution_count": null,
   "metadata": {},
   "outputs": [],
   "source": []
  }
 ],
 "metadata": {
  "kernelspec": {
   "display_name": "pymlp",
   "language": "python",
   "name": "python3"
  },
  "language_info": {
   "codemirror_mode": {
    "name": "ipython",
    "version": 3
   },
   "file_extension": ".py",
   "mimetype": "text/x-python",
   "name": "python",
   "nbconvert_exporter": "python",
   "pygments_lexer": "ipython3",
   "version": "3.9.6"
  },
  "orig_nbformat": 4
 },
 "nbformat": 4,
 "nbformat_minor": 2
}
